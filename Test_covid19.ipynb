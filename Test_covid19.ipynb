{
 "cells": [
  {
   "cell_type": "markdown",
   "id": "74c63938",
   "metadata": {},
   "source": [
    "Il committente richiede di avere un report su casi e vaccinazioni in diverse aree del mondo; a tal fine, richiede di utilizzare il dataset, curato da Our World in Data, all'indirizzo https://github.com/owid/covid-19-data/tree/master/public/data; scaricare il dataset nel formato che si preferisce."
   ]
  },
  {
   "cell_type": "code",
   "execution_count": 1,
   "id": "e291d3ab",
   "metadata": {},
   "outputs": [],
   "source": [
    "import pandas as pd\n",
    "import seaborn as sns"
   ]
  },
  {
   "cell_type": "code",
   "execution_count": 2,
   "id": "fd48c163",
   "metadata": {},
   "outputs": [
    {
     "name": "stdout",
     "output_type": "stream",
     "text": [
      "Inserire percorso e nome del file in formato CSV--> /Users/alessandraferrari/Desktop/Epicode/Python/Settimana04/Esame finale/covid_data.csv\n"
     ]
    },
    {
     "data": {
      "text/html": [
       "<div>\n",
       "<style scoped>\n",
       "    .dataframe tbody tr th:only-of-type {\n",
       "        vertical-align: middle;\n",
       "    }\n",
       "\n",
       "    .dataframe tbody tr th {\n",
       "        vertical-align: top;\n",
       "    }\n",
       "\n",
       "    .dataframe thead th {\n",
       "        text-align: right;\n",
       "    }\n",
       "</style>\n",
       "<table border=\"1\" class=\"dataframe\">\n",
       "  <thead>\n",
       "    <tr style=\"text-align: right;\">\n",
       "      <th></th>\n",
       "      <th>iso_code</th>\n",
       "      <th>continent</th>\n",
       "      <th>location</th>\n",
       "      <th>date</th>\n",
       "      <th>total_cases</th>\n",
       "      <th>new_cases</th>\n",
       "      <th>new_cases_smoothed</th>\n",
       "      <th>total_deaths</th>\n",
       "      <th>new_deaths</th>\n",
       "      <th>new_deaths_smoothed</th>\n",
       "      <th>...</th>\n",
       "      <th>male_smokers</th>\n",
       "      <th>handwashing_facilities</th>\n",
       "      <th>hospital_beds_per_thousand</th>\n",
       "      <th>life_expectancy</th>\n",
       "      <th>human_development_index</th>\n",
       "      <th>population</th>\n",
       "      <th>excess_mortality_cumulative_absolute</th>\n",
       "      <th>excess_mortality_cumulative</th>\n",
       "      <th>excess_mortality</th>\n",
       "      <th>excess_mortality_cumulative_per_million</th>\n",
       "    </tr>\n",
       "  </thead>\n",
       "  <tbody>\n",
       "    <tr>\n",
       "      <th>0</th>\n",
       "      <td>AFG</td>\n",
       "      <td>Asia</td>\n",
       "      <td>Afghanistan</td>\n",
       "      <td>2020-01-05</td>\n",
       "      <td>NaN</td>\n",
       "      <td>0.0</td>\n",
       "      <td>NaN</td>\n",
       "      <td>NaN</td>\n",
       "      <td>0.0</td>\n",
       "      <td>NaN</td>\n",
       "      <td>...</td>\n",
       "      <td>NaN</td>\n",
       "      <td>37.746</td>\n",
       "      <td>0.5</td>\n",
       "      <td>64.83</td>\n",
       "      <td>0.511</td>\n",
       "      <td>41128772.0</td>\n",
       "      <td>NaN</td>\n",
       "      <td>NaN</td>\n",
       "      <td>NaN</td>\n",
       "      <td>NaN</td>\n",
       "    </tr>\n",
       "    <tr>\n",
       "      <th>1</th>\n",
       "      <td>AFG</td>\n",
       "      <td>Asia</td>\n",
       "      <td>Afghanistan</td>\n",
       "      <td>2020-01-06</td>\n",
       "      <td>NaN</td>\n",
       "      <td>0.0</td>\n",
       "      <td>NaN</td>\n",
       "      <td>NaN</td>\n",
       "      <td>0.0</td>\n",
       "      <td>NaN</td>\n",
       "      <td>...</td>\n",
       "      <td>NaN</td>\n",
       "      <td>37.746</td>\n",
       "      <td>0.5</td>\n",
       "      <td>64.83</td>\n",
       "      <td>0.511</td>\n",
       "      <td>41128772.0</td>\n",
       "      <td>NaN</td>\n",
       "      <td>NaN</td>\n",
       "      <td>NaN</td>\n",
       "      <td>NaN</td>\n",
       "    </tr>\n",
       "    <tr>\n",
       "      <th>2</th>\n",
       "      <td>AFG</td>\n",
       "      <td>Asia</td>\n",
       "      <td>Afghanistan</td>\n",
       "      <td>2020-01-07</td>\n",
       "      <td>NaN</td>\n",
       "      <td>0.0</td>\n",
       "      <td>NaN</td>\n",
       "      <td>NaN</td>\n",
       "      <td>0.0</td>\n",
       "      <td>NaN</td>\n",
       "      <td>...</td>\n",
       "      <td>NaN</td>\n",
       "      <td>37.746</td>\n",
       "      <td>0.5</td>\n",
       "      <td>64.83</td>\n",
       "      <td>0.511</td>\n",
       "      <td>41128772.0</td>\n",
       "      <td>NaN</td>\n",
       "      <td>NaN</td>\n",
       "      <td>NaN</td>\n",
       "      <td>NaN</td>\n",
       "    </tr>\n",
       "    <tr>\n",
       "      <th>3</th>\n",
       "      <td>AFG</td>\n",
       "      <td>Asia</td>\n",
       "      <td>Afghanistan</td>\n",
       "      <td>2020-01-08</td>\n",
       "      <td>NaN</td>\n",
       "      <td>0.0</td>\n",
       "      <td>NaN</td>\n",
       "      <td>NaN</td>\n",
       "      <td>0.0</td>\n",
       "      <td>NaN</td>\n",
       "      <td>...</td>\n",
       "      <td>NaN</td>\n",
       "      <td>37.746</td>\n",
       "      <td>0.5</td>\n",
       "      <td>64.83</td>\n",
       "      <td>0.511</td>\n",
       "      <td>41128772.0</td>\n",
       "      <td>NaN</td>\n",
       "      <td>NaN</td>\n",
       "      <td>NaN</td>\n",
       "      <td>NaN</td>\n",
       "    </tr>\n",
       "    <tr>\n",
       "      <th>4</th>\n",
       "      <td>AFG</td>\n",
       "      <td>Asia</td>\n",
       "      <td>Afghanistan</td>\n",
       "      <td>2020-01-09</td>\n",
       "      <td>NaN</td>\n",
       "      <td>0.0</td>\n",
       "      <td>NaN</td>\n",
       "      <td>NaN</td>\n",
       "      <td>0.0</td>\n",
       "      <td>NaN</td>\n",
       "      <td>...</td>\n",
       "      <td>NaN</td>\n",
       "      <td>37.746</td>\n",
       "      <td>0.5</td>\n",
       "      <td>64.83</td>\n",
       "      <td>0.511</td>\n",
       "      <td>41128772.0</td>\n",
       "      <td>NaN</td>\n",
       "      <td>NaN</td>\n",
       "      <td>NaN</td>\n",
       "      <td>NaN</td>\n",
       "    </tr>\n",
       "  </tbody>\n",
       "</table>\n",
       "<p>5 rows × 67 columns</p>\n",
       "</div>"
      ],
      "text/plain": [
       "  iso_code continent     location        date  total_cases  new_cases  \\\n",
       "0      AFG      Asia  Afghanistan  2020-01-05          NaN        0.0   \n",
       "1      AFG      Asia  Afghanistan  2020-01-06          NaN        0.0   \n",
       "2      AFG      Asia  Afghanistan  2020-01-07          NaN        0.0   \n",
       "3      AFG      Asia  Afghanistan  2020-01-08          NaN        0.0   \n",
       "4      AFG      Asia  Afghanistan  2020-01-09          NaN        0.0   \n",
       "\n",
       "   new_cases_smoothed  total_deaths  new_deaths  new_deaths_smoothed  ...  \\\n",
       "0                 NaN           NaN         0.0                  NaN  ...   \n",
       "1                 NaN           NaN         0.0                  NaN  ...   \n",
       "2                 NaN           NaN         0.0                  NaN  ...   \n",
       "3                 NaN           NaN         0.0                  NaN  ...   \n",
       "4                 NaN           NaN         0.0                  NaN  ...   \n",
       "\n",
       "   male_smokers  handwashing_facilities  hospital_beds_per_thousand  \\\n",
       "0           NaN                  37.746                         0.5   \n",
       "1           NaN                  37.746                         0.5   \n",
       "2           NaN                  37.746                         0.5   \n",
       "3           NaN                  37.746                         0.5   \n",
       "4           NaN                  37.746                         0.5   \n",
       "\n",
       "   life_expectancy  human_development_index  population  \\\n",
       "0            64.83                    0.511  41128772.0   \n",
       "1            64.83                    0.511  41128772.0   \n",
       "2            64.83                    0.511  41128772.0   \n",
       "3            64.83                    0.511  41128772.0   \n",
       "4            64.83                    0.511  41128772.0   \n",
       "\n",
       "   excess_mortality_cumulative_absolute  excess_mortality_cumulative  \\\n",
       "0                                   NaN                          NaN   \n",
       "1                                   NaN                          NaN   \n",
       "2                                   NaN                          NaN   \n",
       "3                                   NaN                          NaN   \n",
       "4                                   NaN                          NaN   \n",
       "\n",
       "   excess_mortality  excess_mortality_cumulative_per_million  \n",
       "0               NaN                                      NaN  \n",
       "1               NaN                                      NaN  \n",
       "2               NaN                                      NaN  \n",
       "3               NaN                                      NaN  \n",
       "4               NaN                                      NaN  \n",
       "\n",
       "[5 rows x 67 columns]"
      ]
     },
     "execution_count": 2,
     "metadata": {},
     "output_type": "execute_result"
    }
   ],
   "source": [
    "path = input(\"Inserire percorso e nome del file in formato CSV--> \")\n",
    "df_covid19 = pd.read_csv(path)\n",
    "df_covid19.head()"
   ]
  },
  {
   "cell_type": "markdown",
   "id": "f345ee36",
   "metadata": {},
   "source": [
    "1) Si richiede di verificare le dimensioni del dataset e i relativi metadati."
   ]
  },
  {
   "cell_type": "code",
   "execution_count": 3,
   "id": "50556136",
   "metadata": {},
   "outputs": [
    {
     "data": {
      "text/plain": [
       "(402717, 67)"
      ]
     },
     "execution_count": 3,
     "metadata": {},
     "output_type": "execute_result"
    }
   ],
   "source": [
    "df_covid19.shape"
   ]
  },
  {
   "cell_type": "markdown",
   "id": "96b53f4b",
   "metadata": {},
   "source": [
    "Il dataframe sotto indagine è costituito da 402.717 righe e 67 colonne"
   ]
  },
  {
   "cell_type": "code",
   "execution_count": 4,
   "id": "1800c3d8",
   "metadata": {},
   "outputs": [
    {
     "data": {
      "text/plain": [
       "Index(['iso_code', 'continent', 'location', 'date', 'total_cases', 'new_cases',\n",
       "       'new_cases_smoothed', 'total_deaths', 'new_deaths',\n",
       "       'new_deaths_smoothed', 'total_cases_per_million',\n",
       "       'new_cases_per_million', 'new_cases_smoothed_per_million',\n",
       "       'total_deaths_per_million', 'new_deaths_per_million',\n",
       "       'new_deaths_smoothed_per_million', 'reproduction_rate', 'icu_patients',\n",
       "       'icu_patients_per_million', 'hosp_patients',\n",
       "       'hosp_patients_per_million', 'weekly_icu_admissions',\n",
       "       'weekly_icu_admissions_per_million', 'weekly_hosp_admissions',\n",
       "       'weekly_hosp_admissions_per_million', 'total_tests', 'new_tests',\n",
       "       'total_tests_per_thousand', 'new_tests_per_thousand',\n",
       "       'new_tests_smoothed', 'new_tests_smoothed_per_thousand',\n",
       "       'positive_rate', 'tests_per_case', 'tests_units', 'total_vaccinations',\n",
       "       'people_vaccinated', 'people_fully_vaccinated', 'total_boosters',\n",
       "       'new_vaccinations', 'new_vaccinations_smoothed',\n",
       "       'total_vaccinations_per_hundred', 'people_vaccinated_per_hundred',\n",
       "       'people_fully_vaccinated_per_hundred', 'total_boosters_per_hundred',\n",
       "       'new_vaccinations_smoothed_per_million',\n",
       "       'new_people_vaccinated_smoothed',\n",
       "       'new_people_vaccinated_smoothed_per_hundred', 'stringency_index',\n",
       "       'population_density', 'median_age', 'aged_65_older', 'aged_70_older',\n",
       "       'gdp_per_capita', 'extreme_poverty', 'cardiovasc_death_rate',\n",
       "       'diabetes_prevalence', 'female_smokers', 'male_smokers',\n",
       "       'handwashing_facilities', 'hospital_beds_per_thousand',\n",
       "       'life_expectancy', 'human_development_index', 'population',\n",
       "       'excess_mortality_cumulative_absolute', 'excess_mortality_cumulative',\n",
       "       'excess_mortality', 'excess_mortality_cumulative_per_million'],\n",
       "      dtype='object')"
      ]
     },
     "execution_count": 4,
     "metadata": {},
     "output_type": "execute_result"
    }
   ],
   "source": [
    "df_covid19.columns"
   ]
  },
  {
   "cell_type": "markdown",
   "id": "1a45a4fb",
   "metadata": {},
   "source": [
    "Queste sono le etichette dei campi del dataframe in esame"
   ]
  },
  {
   "cell_type": "code",
   "execution_count": 5,
   "id": "ad51c62a",
   "metadata": {},
   "outputs": [
    {
     "name": "stdout",
     "output_type": "stream",
     "text": [
      "<class 'pandas.core.frame.DataFrame'>\n",
      "RangeIndex: 402717 entries, 0 to 402716\n",
      "Data columns (total 67 columns):\n",
      " #   Column                                      Non-Null Count   Dtype  \n",
      "---  ------                                      --------------   -----  \n",
      " 0   iso_code                                    402717 non-null  object \n",
      " 1   continent                                   383454 non-null  object \n",
      " 2   location                                    402717 non-null  object \n",
      " 3   date                                        402717 non-null  object \n",
      " 4   total_cases                                 363712 non-null  float64\n",
      " 5   new_cases                                   391526 non-null  float64\n",
      " 6   new_cases_smoothed                          390296 non-null  float64\n",
      " 7   total_deaths                                341117 non-null  float64\n",
      " 8   new_deaths                                  391897 non-null  float64\n",
      " 9   new_deaths_smoothed                         390667 non-null  float64\n",
      " 10  total_cases_per_million                     363712 non-null  float64\n",
      " 11  new_cases_per_million                       391526 non-null  float64\n",
      " 12  new_cases_smoothed_per_million              390296 non-null  float64\n",
      " 13  total_deaths_per_million                    341117 non-null  float64\n",
      " 14  new_deaths_per_million                      391897 non-null  float64\n",
      " 15  new_deaths_smoothed_per_million             390667 non-null  float64\n",
      " 16  reproduction_rate                           184817 non-null  float64\n",
      " 17  icu_patients                                38892 non-null   float64\n",
      " 18  icu_patients_per_million                    38892 non-null   float64\n",
      " 19  hosp_patients                               40432 non-null   float64\n",
      " 20  hosp_patients_per_million                   40432 non-null   float64\n",
      " 21  weekly_icu_admissions                       10838 non-null   float64\n",
      " 22  weekly_icu_admissions_per_million           10838 non-null   float64\n",
      " 23  weekly_hosp_admissions                      24347 non-null   float64\n",
      " 24  weekly_hosp_admissions_per_million          24347 non-null   float64\n",
      " 25  total_tests                                 79387 non-null   float64\n",
      " 26  new_tests                                   75403 non-null   float64\n",
      " 27  total_tests_per_thousand                    79387 non-null   float64\n",
      " 28  new_tests_per_thousand                      75403 non-null   float64\n",
      " 29  new_tests_smoothed                          103965 non-null  float64\n",
      " 30  new_tests_smoothed_per_thousand             103965 non-null  float64\n",
      " 31  positive_rate                               95927 non-null   float64\n",
      " 32  tests_per_case                              94348 non-null   float64\n",
      " 33  tests_units                                 106788 non-null  object \n",
      " 34  total_vaccinations                          84404 non-null   float64\n",
      " 35  people_vaccinated                           80176 non-null   float64\n",
      " 36  people_fully_vaccinated                     77095 non-null   float64\n",
      " 37  total_boosters                              52612 non-null   float64\n",
      " 38  new_vaccinations                            70041 non-null   float64\n",
      " 39  new_vaccinations_smoothed                   193691 non-null  float64\n",
      " 40  total_vaccinations_per_hundred              84404 non-null   float64\n",
      " 41  people_vaccinated_per_hundred               80176 non-null   float64\n",
      " 42  people_fully_vaccinated_per_hundred         77095 non-null   float64\n",
      " 43  total_boosters_per_hundred                  52612 non-null   float64\n",
      " 44  new_vaccinations_smoothed_per_million       193691 non-null  float64\n",
      " 45  new_people_vaccinated_smoothed              191008 non-null  float64\n",
      " 46  new_people_vaccinated_smoothed_per_hundred  191008 non-null  float64\n",
      " 47  stringency_index                            197292 non-null  float64\n",
      " 48  population_density                          342656 non-null  float64\n",
      " 49  median_age                                  318453 non-null  float64\n",
      " 50  aged_65_older                               307522 non-null  float64\n",
      " 51  aged_70_older                               315259 non-null  float64\n",
      " 52  gdp_per_capita                              312313 non-null  float64\n",
      " 53  extreme_poverty                             201340 non-null  float64\n",
      " 54  cardiovasc_death_rate                       312901 non-null  float64\n",
      " 55  diabetes_prevalence                         329085 non-null  float64\n",
      " 56  female_smokers                              234897 non-null  float64\n",
      " 57  male_smokers                                231703 non-null  float64\n",
      " 58  handwashing_facilities                      153356 non-null  float64\n",
      " 59  hospital_beds_per_thousand                  276419 non-null  float64\n",
      " 60  life_expectancy                             371154 non-null  float64\n",
      " 61  human_development_index                     303533 non-null  float64\n",
      " 62  population                                  402717 non-null  float64\n",
      " 63  excess_mortality_cumulative_absolute        13278 non-null   float64\n",
      " 64  excess_mortality_cumulative                 13278 non-null   float64\n",
      " 65  excess_mortality                            13278 non-null   float64\n",
      " 66  excess_mortality_cumulative_per_million     13278 non-null   float64\n",
      "dtypes: float64(62), object(5)\n",
      "memory usage: 205.9+ MB\n"
     ]
    }
   ],
   "source": [
    "df_covid19.info()"
   ]
  },
  {
   "cell_type": "markdown",
   "id": "4df55f3b",
   "metadata": {},
   "source": [
    "Vediamo una forte presenza di dati nulli: alcuni campi sono in larga maggioranza costituiti da dati nulli; notiamo inoltre che il tipo di dato maggiormente presente è il float. Trasformiamo il type del campo \"date\" da object al formato \"data\":"
   ]
  },
  {
   "cell_type": "code",
   "execution_count": 6,
   "id": "c03d30ef",
   "metadata": {},
   "outputs": [],
   "source": [
    "df_covid19[\"date\"] = pd.to_datetime(df_covid19[\"date\"])"
   ]
  },
  {
   "cell_type": "code",
   "execution_count": 7,
   "id": "ee4994a6",
   "metadata": {},
   "outputs": [
    {
     "data": {
      "text/html": [
       "<div>\n",
       "<style scoped>\n",
       "    .dataframe tbody tr th:only-of-type {\n",
       "        vertical-align: middle;\n",
       "    }\n",
       "\n",
       "    .dataframe tbody tr th {\n",
       "        vertical-align: top;\n",
       "    }\n",
       "\n",
       "    .dataframe thead th {\n",
       "        text-align: right;\n",
       "    }\n",
       "</style>\n",
       "<table border=\"1\" class=\"dataframe\">\n",
       "  <thead>\n",
       "    <tr style=\"text-align: right;\">\n",
       "      <th></th>\n",
       "      <th>date</th>\n",
       "      <th>total_cases</th>\n",
       "      <th>new_cases</th>\n",
       "      <th>new_cases_smoothed</th>\n",
       "      <th>total_deaths</th>\n",
       "      <th>new_deaths</th>\n",
       "      <th>new_deaths_smoothed</th>\n",
       "      <th>total_cases_per_million</th>\n",
       "      <th>new_cases_per_million</th>\n",
       "      <th>new_cases_smoothed_per_million</th>\n",
       "      <th>...</th>\n",
       "      <th>male_smokers</th>\n",
       "      <th>handwashing_facilities</th>\n",
       "      <th>hospital_beds_per_thousand</th>\n",
       "      <th>life_expectancy</th>\n",
       "      <th>human_development_index</th>\n",
       "      <th>population</th>\n",
       "      <th>excess_mortality_cumulative_absolute</th>\n",
       "      <th>excess_mortality_cumulative</th>\n",
       "      <th>excess_mortality</th>\n",
       "      <th>excess_mortality_cumulative_per_million</th>\n",
       "    </tr>\n",
       "  </thead>\n",
       "  <tbody>\n",
       "    <tr>\n",
       "      <th>count</th>\n",
       "      <td>402717</td>\n",
       "      <td>3.637120e+05</td>\n",
       "      <td>3.915260e+05</td>\n",
       "      <td>3.902960e+05</td>\n",
       "      <td>3.411170e+05</td>\n",
       "      <td>391897.000000</td>\n",
       "      <td>390667.000000</td>\n",
       "      <td>363712.000000</td>\n",
       "      <td>391526.000000</td>\n",
       "      <td>390296.000000</td>\n",
       "      <td>...</td>\n",
       "      <td>231703.000000</td>\n",
       "      <td>153356.000000</td>\n",
       "      <td>276419.000000</td>\n",
       "      <td>371154.000000</td>\n",
       "      <td>303533.000000</td>\n",
       "      <td>4.027170e+05</td>\n",
       "      <td>1.327800e+04</td>\n",
       "      <td>13278.000000</td>\n",
       "      <td>13278.000000</td>\n",
       "      <td>13278.000000</td>\n",
       "    </tr>\n",
       "    <tr>\n",
       "      <th>mean</th>\n",
       "      <td>2022-03-12 00:16:58.005199360</td>\n",
       "      <td>7.643621e+06</td>\n",
       "      <td>8.394802e+03</td>\n",
       "      <td>8.420935e+03</td>\n",
       "      <td>9.144834e+04</td>\n",
       "      <td>75.201461</td>\n",
       "      <td>75.435369</td>\n",
       "      <td>116280.089683</td>\n",
       "      <td>127.798851</td>\n",
       "      <td>128.194808</td>\n",
       "      <td>...</td>\n",
       "      <td>32.911524</td>\n",
       "      <td>50.790250</td>\n",
       "      <td>3.097266</td>\n",
       "      <td>73.708293</td>\n",
       "      <td>0.722516</td>\n",
       "      <td>1.291385e+08</td>\n",
       "      <td>5.569878e+04</td>\n",
       "      <td>9.782818</td>\n",
       "      <td>10.992054</td>\n",
       "      <td>1780.178018</td>\n",
       "    </tr>\n",
       "    <tr>\n",
       "      <th>min</th>\n",
       "      <td>2020-01-01 00:00:00</td>\n",
       "      <td>1.000000e+00</td>\n",
       "      <td>0.000000e+00</td>\n",
       "      <td>0.000000e+00</td>\n",
       "      <td>1.000000e+00</td>\n",
       "      <td>0.000000</td>\n",
       "      <td>0.000000</td>\n",
       "      <td>0.000000</td>\n",
       "      <td>0.000000</td>\n",
       "      <td>0.000000</td>\n",
       "      <td>...</td>\n",
       "      <td>7.700000</td>\n",
       "      <td>1.188000</td>\n",
       "      <td>0.100000</td>\n",
       "      <td>53.280000</td>\n",
       "      <td>0.394000</td>\n",
       "      <td>4.700000e+01</td>\n",
       "      <td>-3.772610e+04</td>\n",
       "      <td>-44.230000</td>\n",
       "      <td>-95.920000</td>\n",
       "      <td>-2936.453100</td>\n",
       "    </tr>\n",
       "    <tr>\n",
       "      <th>25%</th>\n",
       "      <td>2021-02-08 00:00:00</td>\n",
       "      <td>9.745000e+03</td>\n",
       "      <td>0.000000e+00</td>\n",
       "      <td>0.000000e+00</td>\n",
       "      <td>1.380000e+02</td>\n",
       "      <td>0.000000</td>\n",
       "      <td>0.000000</td>\n",
       "      <td>3112.311000</td>\n",
       "      <td>0.000000</td>\n",
       "      <td>0.000000</td>\n",
       "      <td>...</td>\n",
       "      <td>22.600000</td>\n",
       "      <td>20.859000</td>\n",
       "      <td>1.300000</td>\n",
       "      <td>69.590000</td>\n",
       "      <td>0.602000</td>\n",
       "      <td>4.490020e+05</td>\n",
       "      <td>1.778501e+02</td>\n",
       "      <td>2.120000</td>\n",
       "      <td>-1.450000</td>\n",
       "      <td>123.163174</td>\n",
       "    </tr>\n",
       "    <tr>\n",
       "      <th>50%</th>\n",
       "      <td>2022-03-12 00:00:00</td>\n",
       "      <td>8.249500e+04</td>\n",
       "      <td>0.000000e+00</td>\n",
       "      <td>1.485700e+01</td>\n",
       "      <td>1.419000e+03</td>\n",
       "      <td>0.000000</td>\n",
       "      <td>0.000000</td>\n",
       "      <td>34817.949000</td>\n",
       "      <td>0.000000</td>\n",
       "      <td>3.553000</td>\n",
       "      <td>...</td>\n",
       "      <td>33.100000</td>\n",
       "      <td>49.839000</td>\n",
       "      <td>2.500000</td>\n",
       "      <td>75.050000</td>\n",
       "      <td>0.740000</td>\n",
       "      <td>5.882259e+06</td>\n",
       "      <td>6.812648e+03</td>\n",
       "      <td>8.150000</td>\n",
       "      <td>5.700000</td>\n",
       "      <td>1260.184150</td>\n",
       "    </tr>\n",
       "    <tr>\n",
       "      <th>75%</th>\n",
       "      <td>2023-04-12 00:00:00</td>\n",
       "      <td>9.229470e+05</td>\n",
       "      <td>0.000000e+00</td>\n",
       "      <td>3.605710e+02</td>\n",
       "      <td>1.295500e+04</td>\n",
       "      <td>0.000000</td>\n",
       "      <td>3.571000</td>\n",
       "      <td>159909.243000</td>\n",
       "      <td>0.000000</td>\n",
       "      <td>62.778250</td>\n",
       "      <td>...</td>\n",
       "      <td>41.300000</td>\n",
       "      <td>82.502000</td>\n",
       "      <td>4.200000</td>\n",
       "      <td>79.460000</td>\n",
       "      <td>0.829000</td>\n",
       "      <td>2.830170e+07</td>\n",
       "      <td>3.901172e+04</td>\n",
       "      <td>15.027500</td>\n",
       "      <td>15.680000</td>\n",
       "      <td>2881.342550</td>\n",
       "    </tr>\n",
       "    <tr>\n",
       "      <th>max</th>\n",
       "      <td>2024-06-01 00:00:00</td>\n",
       "      <td>7.755224e+08</td>\n",
       "      <td>4.423623e+07</td>\n",
       "      <td>6.319461e+06</td>\n",
       "      <td>7.049617e+06</td>\n",
       "      <td>103719.000000</td>\n",
       "      <td>14817.000000</td>\n",
       "      <td>771475.000000</td>\n",
       "      <td>240325.866000</td>\n",
       "      <td>34332.267000</td>\n",
       "      <td>...</td>\n",
       "      <td>78.100000</td>\n",
       "      <td>100.000000</td>\n",
       "      <td>13.800000</td>\n",
       "      <td>86.750000</td>\n",
       "      <td>0.957000</td>\n",
       "      <td>7.975105e+09</td>\n",
       "      <td>1.345330e+06</td>\n",
       "      <td>78.080000</td>\n",
       "      <td>383.490000</td>\n",
       "      <td>10293.515000</td>\n",
       "    </tr>\n",
       "    <tr>\n",
       "      <th>std</th>\n",
       "      <td>NaN</td>\n",
       "      <td>4.513264e+07</td>\n",
       "      <td>2.349982e+05</td>\n",
       "      <td>8.861835e+04</td>\n",
       "      <td>4.628774e+05</td>\n",
       "      <td>1396.538891</td>\n",
       "      <td>524.036572</td>\n",
       "      <td>163086.035446</td>\n",
       "      <td>1515.631099</td>\n",
       "      <td>561.340379</td>\n",
       "      <td>...</td>\n",
       "      <td>13.573208</td>\n",
       "      <td>31.953891</td>\n",
       "      <td>2.548281</td>\n",
       "      <td>7.394617</td>\n",
       "      <td>0.148988</td>\n",
       "      <td>6.629174e+08</td>\n",
       "      <td>1.553604e+05</td>\n",
       "      <td>12.057756</td>\n",
       "      <td>24.542748</td>\n",
       "      <td>1990.717215</td>\n",
       "    </tr>\n",
       "  </tbody>\n",
       "</table>\n",
       "<p>8 rows × 63 columns</p>\n",
       "</div>"
      ],
      "text/plain": [
       "                                date   total_cases     new_cases  \\\n",
       "count                         402717  3.637120e+05  3.915260e+05   \n",
       "mean   2022-03-12 00:16:58.005199360  7.643621e+06  8.394802e+03   \n",
       "min              2020-01-01 00:00:00  1.000000e+00  0.000000e+00   \n",
       "25%              2021-02-08 00:00:00  9.745000e+03  0.000000e+00   \n",
       "50%              2022-03-12 00:00:00  8.249500e+04  0.000000e+00   \n",
       "75%              2023-04-12 00:00:00  9.229470e+05  0.000000e+00   \n",
       "max              2024-06-01 00:00:00  7.755224e+08  4.423623e+07   \n",
       "std                              NaN  4.513264e+07  2.349982e+05   \n",
       "\n",
       "       new_cases_smoothed  total_deaths     new_deaths  new_deaths_smoothed  \\\n",
       "count        3.902960e+05  3.411170e+05  391897.000000        390667.000000   \n",
       "mean         8.420935e+03  9.144834e+04      75.201461            75.435369   \n",
       "min          0.000000e+00  1.000000e+00       0.000000             0.000000   \n",
       "25%          0.000000e+00  1.380000e+02       0.000000             0.000000   \n",
       "50%          1.485700e+01  1.419000e+03       0.000000             0.000000   \n",
       "75%          3.605710e+02  1.295500e+04       0.000000             3.571000   \n",
       "max          6.319461e+06  7.049617e+06  103719.000000         14817.000000   \n",
       "std          8.861835e+04  4.628774e+05    1396.538891           524.036572   \n",
       "\n",
       "       total_cases_per_million  new_cases_per_million  \\\n",
       "count            363712.000000          391526.000000   \n",
       "mean             116280.089683             127.798851   \n",
       "min                   0.000000               0.000000   \n",
       "25%                3112.311000               0.000000   \n",
       "50%               34817.949000               0.000000   \n",
       "75%              159909.243000               0.000000   \n",
       "max              771475.000000          240325.866000   \n",
       "std              163086.035446            1515.631099   \n",
       "\n",
       "       new_cases_smoothed_per_million  ...   male_smokers  \\\n",
       "count                   390296.000000  ...  231703.000000   \n",
       "mean                       128.194808  ...      32.911524   \n",
       "min                          0.000000  ...       7.700000   \n",
       "25%                          0.000000  ...      22.600000   \n",
       "50%                          3.553000  ...      33.100000   \n",
       "75%                         62.778250  ...      41.300000   \n",
       "max                      34332.267000  ...      78.100000   \n",
       "std                        561.340379  ...      13.573208   \n",
       "\n",
       "       handwashing_facilities  hospital_beds_per_thousand  life_expectancy  \\\n",
       "count           153356.000000               276419.000000    371154.000000   \n",
       "mean                50.790250                    3.097266        73.708293   \n",
       "min                  1.188000                    0.100000        53.280000   \n",
       "25%                 20.859000                    1.300000        69.590000   \n",
       "50%                 49.839000                    2.500000        75.050000   \n",
       "75%                 82.502000                    4.200000        79.460000   \n",
       "max                100.000000                   13.800000        86.750000   \n",
       "std                 31.953891                    2.548281         7.394617   \n",
       "\n",
       "       human_development_index    population  \\\n",
       "count            303533.000000  4.027170e+05   \n",
       "mean                  0.722516  1.291385e+08   \n",
       "min                   0.394000  4.700000e+01   \n",
       "25%                   0.602000  4.490020e+05   \n",
       "50%                   0.740000  5.882259e+06   \n",
       "75%                   0.829000  2.830170e+07   \n",
       "max                   0.957000  7.975105e+09   \n",
       "std                   0.148988  6.629174e+08   \n",
       "\n",
       "       excess_mortality_cumulative_absolute  excess_mortality_cumulative  \\\n",
       "count                          1.327800e+04                 13278.000000   \n",
       "mean                           5.569878e+04                     9.782818   \n",
       "min                           -3.772610e+04                   -44.230000   \n",
       "25%                            1.778501e+02                     2.120000   \n",
       "50%                            6.812648e+03                     8.150000   \n",
       "75%                            3.901172e+04                    15.027500   \n",
       "max                            1.345330e+06                    78.080000   \n",
       "std                            1.553604e+05                    12.057756   \n",
       "\n",
       "       excess_mortality  excess_mortality_cumulative_per_million  \n",
       "count      13278.000000                             13278.000000  \n",
       "mean          10.992054                              1780.178018  \n",
       "min          -95.920000                             -2936.453100  \n",
       "25%           -1.450000                               123.163174  \n",
       "50%            5.700000                              1260.184150  \n",
       "75%           15.680000                              2881.342550  \n",
       "max          383.490000                             10293.515000  \n",
       "std           24.542748                              1990.717215  \n",
       "\n",
       "[8 rows x 63 columns]"
      ]
     },
     "execution_count": 7,
     "metadata": {},
     "output_type": "execute_result"
    }
   ],
   "source": [
    "df_covid19.describe()"
   ]
  },
  {
   "cell_type": "markdown",
   "id": "56f1852a",
   "metadata": {},
   "source": [
    "Ad una prima indagine si nota che il valore massimo del campo \"total_deaths\" è parecchio alto rispetto allla media e alle percentili del campo; i campi \"new_death\" e new_deaths_smoothed\", \"new_cases_per_million\" non hanno percentili."
   ]
  },
  {
   "cell_type": "code",
   "execution_count": 8,
   "id": "4116bf19",
   "metadata": {},
   "outputs": [
    {
     "data": {
      "text/html": [
       "<div>\n",
       "<style scoped>\n",
       "    .dataframe tbody tr th:only-of-type {\n",
       "        vertical-align: middle;\n",
       "    }\n",
       "\n",
       "    .dataframe tbody tr th {\n",
       "        vertical-align: top;\n",
       "    }\n",
       "\n",
       "    .dataframe thead th {\n",
       "        text-align: right;\n",
       "    }\n",
       "</style>\n",
       "<table border=\"1\" class=\"dataframe\">\n",
       "  <thead>\n",
       "    <tr style=\"text-align: right;\">\n",
       "      <th></th>\n",
       "      <th>iso_code</th>\n",
       "      <th>continent</th>\n",
       "      <th>location</th>\n",
       "      <th>date</th>\n",
       "      <th>total_cases</th>\n",
       "      <th>new_cases</th>\n",
       "      <th>new_cases_smoothed</th>\n",
       "      <th>total_deaths</th>\n",
       "      <th>new_deaths</th>\n",
       "      <th>new_deaths_smoothed</th>\n",
       "      <th>...</th>\n",
       "      <th>male_smokers</th>\n",
       "      <th>handwashing_facilities</th>\n",
       "      <th>hospital_beds_per_thousand</th>\n",
       "      <th>life_expectancy</th>\n",
       "      <th>human_development_index</th>\n",
       "      <th>population</th>\n",
       "      <th>excess_mortality_cumulative_absolute</th>\n",
       "      <th>excess_mortality_cumulative</th>\n",
       "      <th>excess_mortality</th>\n",
       "      <th>excess_mortality_cumulative_per_million</th>\n",
       "    </tr>\n",
       "  </thead>\n",
       "  <tbody>\n",
       "  </tbody>\n",
       "</table>\n",
       "<p>0 rows × 67 columns</p>\n",
       "</div>"
      ],
      "text/plain": [
       "Empty DataFrame\n",
       "Columns: [iso_code, continent, location, date, total_cases, new_cases, new_cases_smoothed, total_deaths, new_deaths, new_deaths_smoothed, total_cases_per_million, new_cases_per_million, new_cases_smoothed_per_million, total_deaths_per_million, new_deaths_per_million, new_deaths_smoothed_per_million, reproduction_rate, icu_patients, icu_patients_per_million, hosp_patients, hosp_patients_per_million, weekly_icu_admissions, weekly_icu_admissions_per_million, weekly_hosp_admissions, weekly_hosp_admissions_per_million, total_tests, new_tests, total_tests_per_thousand, new_tests_per_thousand, new_tests_smoothed, new_tests_smoothed_per_thousand, positive_rate, tests_per_case, tests_units, total_vaccinations, people_vaccinated, people_fully_vaccinated, total_boosters, new_vaccinations, new_vaccinations_smoothed, total_vaccinations_per_hundred, people_vaccinated_per_hundred, people_fully_vaccinated_per_hundred, total_boosters_per_hundred, new_vaccinations_smoothed_per_million, new_people_vaccinated_smoothed, new_people_vaccinated_smoothed_per_hundred, stringency_index, population_density, median_age, aged_65_older, aged_70_older, gdp_per_capita, extreme_poverty, cardiovasc_death_rate, diabetes_prevalence, female_smokers, male_smokers, handwashing_facilities, hospital_beds_per_thousand, life_expectancy, human_development_index, population, excess_mortality_cumulative_absolute, excess_mortality_cumulative, excess_mortality, excess_mortality_cumulative_per_million]\n",
       "Index: []\n",
       "\n",
       "[0 rows x 67 columns]"
      ]
     },
     "execution_count": 8,
     "metadata": {},
     "output_type": "execute_result"
    }
   ],
   "source": [
    "df_covid19[df_covid19.duplicated(keep = False)]"
   ]
  },
  {
   "cell_type": "markdown",
   "id": "2a541be1",
   "metadata": {},
   "source": [
    "Non sembrano esserci righe duplicate.\n",
    "Dunque creo una funzione che ci aiuti ad analizzare i valori unici contenuti in ogni colonna di un DataFrame."
   ]
  },
  {
   "cell_type": "code",
   "execution_count": 9,
   "id": "aaf6b8d5",
   "metadata": {},
   "outputs": [
    {
     "name": "stdout",
     "output_type": "stream",
     "text": [
      "La colonna iso_code contiene 255 valori unici\n",
      "La colonna continent contiene 6 valori unici\n",
      "Con questa frequenza: continent\n",
      "Africa           91030\n",
      "Europe           86747\n",
      "Asia             79495\n",
      "North America    65492\n",
      "Oceania          38328\n",
      "South America    22362\n",
      "Name: count, dtype: int64\n",
      "La colonna location contiene 255 valori unici\n",
      "La colonna reproduction_rate contiene 380 valori unici\n",
      "La colonna tests_units contiene 4 valori unici\n",
      "Con questa frequenza: tests_units\n",
      "tests performed    80099\n",
      "people tested      16257\n",
      "samples tested      9591\n",
      "units unclear        841\n",
      "Name: count, dtype: int64\n",
      "La colonna population_density contiene 215 valori unici\n",
      "La colonna median_age contiene 142 valori unici\n",
      "La colonna aged_65_older contiene 192 valori unici\n",
      "La colonna aged_70_older contiene 195 valori unici\n",
      "La colonna gdp_per_capita contiene 196 valori unici\n",
      "La colonna extreme_poverty contiene 76 valori unici\n",
      "La colonna cardiovasc_death_rate contiene 196 valori unici\n",
      "La colonna diabetes_prevalence contiene 150 valori unici\n",
      "La colonna female_smokers contiene 112 valori unici\n",
      "La colonna male_smokers contiene 127 valori unici\n",
      "La colonna handwashing_facilities contiene 96 valori unici\n",
      "La colonna hospital_beds_per_thousand contiene 102 valori unici\n",
      "La colonna life_expectancy contiene 220 valori unici\n",
      "La colonna human_development_index contiene 154 valori unici\n",
      "La colonna population contiene 255 valori unici\n"
     ]
    }
   ],
   "source": [
    "def trova_unici(lista_colonne, df):\n",
    "    for col in lista_colonne:\n",
    "        valori_unici = df[col].nunique()\n",
    "        if valori_unici < 500:\n",
    "            print(f\"La colonna {col} contiene {valori_unici} valori unici\")\n",
    "            if valori_unici < 10:\n",
    "                print(f\"Con questa frequenza: {df[col].value_counts()}\")\n",
    "                \n",
    "trova_unici(df_covid19.columns, df_covid19)"
   ]
  },
  {
   "cell_type": "markdown",
   "id": "c866cd4c",
   "metadata": {},
   "source": [
    "Visualizzando la presenza di valori unici e la loro frequenza si nota che i campi \"iso_code\" \"location\" e \"population\" sono forse legati, probabilmente il primo contiene il codice che rappresenta il nome dello Stato contenuto nel secondo ed il terzo la relativa popolazione. Si nota inoltre che i dati sono suddivisibili per 6 continenti e che il campo \"tests_units\" presenta solo 4 valori unici."
   ]
  },
  {
   "cell_type": "markdown",
   "id": "c9e7d495",
   "metadata": {},
   "source": [
    "2) Si chiede poi per ogni continente di trovare il numero di casi totali avvenuti in quello stesso continente; si chiede di non considerare eventuali locazioni che nel dataset non appartengono ad alcun continente"
   ]
  },
  {
   "cell_type": "code",
   "execution_count": 10,
   "id": "10b7d295",
   "metadata": {},
   "outputs": [
    {
     "data": {
      "text/plain": [
       "continent\n",
       "Africa           1.360475e+10\n",
       "Asia             2.289547e+11\n",
       "Europe           2.172971e+11\n",
       "North America    1.175176e+11\n",
       "Oceania          1.044462e+10\n",
       "South America    6.819703e+10\n",
       "Name: total_cases, dtype: float64"
      ]
     },
     "execution_count": 10,
     "metadata": {},
     "output_type": "execute_result"
    }
   ],
   "source": [
    "df_covid19.groupby(\"continent\")[\"total_cases\"].sum()"
   ]
  },
  {
   "cell_type": "markdown",
   "id": "3542cb93",
   "metadata": {},
   "source": [
    "La funzione \"groupby\" esclude di suo i valori nulli; si può in caso precisare se escluderli o meno utilizzando il parametro \"dropna = False/True\". Il dato mostrato è poco utile perchè mostra una somma cumulativa per ogni continente, senza considerare che un malato, se conteggiato come malato per più giorni, viene sommato più e più volte, ecco il perchè dei risultati così assurdi, sarebbe meglio conteggiare i nuovi malati."
   ]
  },
  {
   "cell_type": "markdown",
   "id": "d8147229",
   "metadata": {},
   "source": [
    "3) Sempre riguardo i casi totali, si chiede di scrivere del codice che, date due variabili contenenti i nomi di continenti, ne confronti i seguenti relativi descrittori statistici: valore massimo, media, e percentuale rispetto al numero dei casi totali nel mondo (calcolati anche sulle locazioni senza indicazione di continente);"
   ]
  },
  {
   "cell_type": "code",
   "execution_count": 11,
   "id": "960b6845",
   "metadata": {},
   "outputs": [
    {
     "name": "stdout",
     "output_type": "stream",
     "text": [
      "Inserire due parametri tra: Africa, Asia, Europe, North America, Oceania, South e America\n",
      "Inserire parametro 1: Europe\n",
      "Inserire parametro 2: North America\n",
      "Il valore massimo di casi totali del continente Europe è 38997490.0 e di North America è 103436829.0\n",
      "La media dei casi totali del continente Europe è 2762450.796226847 e di North America è 1879169.2975518494\n",
      "La percentuale rispetto al numero dei casi totali nel mondo del continente Europe è 7.816228462128401 e di North America è 4.2271356268382885\n"
     ]
    }
   ],
   "source": [
    "def massimo(continente):\n",
    "    df = df_covid19[df_covid19[\"continent\"] == continente]\n",
    "    return(df[\"total_cases\"].max())\n",
    "\n",
    "def media(continente):\n",
    "    df = df_covid19[df_covid19[\"continent\"] == continente]\n",
    "    return(df[\"total_cases\"].mean())\n",
    "\n",
    "def percentuale(continente):\n",
    "    df = df_covid19[df_covid19[\"continent\"] == continente]\n",
    "    return((df[\"total_cases\"].sum()/df_covid19[\"total_cases\"].sum())*100)\n",
    "\n",
    "print(\"Inserire due parametri tra: Africa, Asia, Europe, North America, Oceania, South e America\")\n",
    "cont1 = input(\"Inserire parametro 1: \")\n",
    "cont2 = input(\"Inserire parametro 2: \")\n",
    "print(f\"Il valore massimo di casi totali del continente {cont1} è {massimo(cont1)} e di {cont2} è {massimo(cont2)}\")\n",
    "print(f\"La media dei casi totali del continente {cont1} è {media(cont1)} e di {cont2} è {media(cont2)}\")\n",
    "print(f\"La percentuale rispetto al numero dei casi totali nel mondo del continente {cont1} è {percentuale(cont1)} e di {cont2} è {percentuale(cont2)}\")"
   ]
  },
  {
   "cell_type": "markdown",
   "id": "333fce00",
   "metadata": {},
   "source": [
    "Il codice scritto sopra è comunque parecchio macchinoso e si potrebbe incorrere in errori a causa dello sbagliato inserimento dei valori da parte dell'utente, (di base si dovrebbe tenere sotto controllo questo tipo di errore tramite l'uso di un Try/except inserito in un ciclo while).\n",
    "Ad ogni modo trovo più adatta allo scopo la costruzione di un DataFrame che ci permetta di visionare questi dati direttamente, ad esempio:"
   ]
  },
  {
   "cell_type": "code",
   "execution_count": 14,
   "id": "8e653309",
   "metadata": {},
   "outputs": [
    {
     "data": {
      "text/html": [
       "<div>\n",
       "<style scoped>\n",
       "    .dataframe tbody tr th:only-of-type {\n",
       "        vertical-align: middle;\n",
       "    }\n",
       "\n",
       "    .dataframe tbody tr th {\n",
       "        vertical-align: top;\n",
       "    }\n",
       "\n",
       "    .dataframe thead th {\n",
       "        text-align: right;\n",
       "    }\n",
       "</style>\n",
       "<table border=\"1\" class=\"dataframe\">\n",
       "  <thead>\n",
       "    <tr style=\"text-align: right;\">\n",
       "      <th></th>\n",
       "      <th>media</th>\n",
       "      <th>massimo</th>\n",
       "    </tr>\n",
       "    <tr>\n",
       "      <th>continent</th>\n",
       "      <th></th>\n",
       "      <th></th>\n",
       "    </tr>\n",
       "  </thead>\n",
       "  <tbody>\n",
       "    <tr>\n",
       "      <th>Africa</th>\n",
       "      <td>1.585248e+05</td>\n",
       "      <td>4072697.0</td>\n",
       "    </tr>\n",
       "    <tr>\n",
       "      <th>Asia</th>\n",
       "      <td>3.327540e+06</td>\n",
       "      <td>99357895.0</td>\n",
       "    </tr>\n",
       "    <tr>\n",
       "      <th>Europe</th>\n",
       "      <td>2.762451e+06</td>\n",
       "      <td>38997490.0</td>\n",
       "    </tr>\n",
       "    <tr>\n",
       "      <th>North America</th>\n",
       "      <td>1.879169e+06</td>\n",
       "      <td>103436829.0</td>\n",
       "    </tr>\n",
       "    <tr>\n",
       "      <th>Oceania</th>\n",
       "      <td>3.795285e+05</td>\n",
       "      <td>11861161.0</td>\n",
       "    </tr>\n",
       "    <tr>\n",
       "      <th>South America</th>\n",
       "      <td>3.183802e+06</td>\n",
       "      <td>37519960.0</td>\n",
       "    </tr>\n",
       "    <tr>\n",
       "      <th>NaN</th>\n",
       "      <td>1.121054e+08</td>\n",
       "      <td>775522390.0</td>\n",
       "    </tr>\n",
       "  </tbody>\n",
       "</table>\n",
       "</div>"
      ],
      "text/plain": [
       "                      media      massimo\n",
       "continent                               \n",
       "Africa         1.585248e+05    4072697.0\n",
       "Asia           3.327540e+06   99357895.0\n",
       "Europe         2.762451e+06   38997490.0\n",
       "North America  1.879169e+06  103436829.0\n",
       "Oceania        3.795285e+05   11861161.0\n",
       "South America  3.183802e+06   37519960.0\n",
       "NaN            1.121054e+08  775522390.0"
      ]
     },
     "execution_count": 14,
     "metadata": {},
     "output_type": "execute_result"
    }
   ],
   "source": [
    "conteggi = df_covid19.groupby(\"continent\", dropna = False)[\"total_cases\"].agg(media = \"mean\", massimo = \"max\")\n",
    "conteggi"
   ]
  },
  {
   "cell_type": "markdown",
   "id": "b4f25514",
   "metadata": {},
   "source": [
    "4) Selezionare i dati relativi all'Italia nel 2022, e mostrare con un grafico adeguato l'evoluzione del casi totali rispetto alla data. Mostrare poi con un grafico adeguato il numero di nuovi casi rispetto alla data (filtrare i dati se necessario). Mostrare infine un grafico che mostra l'andamento della somma cumulativa nuovi casi del 2022, e commentare se ci sono similarità con l'andamento del numero dei casi totali"
   ]
  },
  {
   "cell_type": "code",
   "execution_count": 16,
   "id": "8ea79fd4",
   "metadata": {},
   "outputs": [],
   "source": [
    "Italy = df_covid19[(df_covid19[\"location\"] == \"Italy\") & (df_covid19[\"date\"].dt.year == 2022)]"
   ]
  },
  {
   "cell_type": "code",
   "execution_count": 17,
   "id": "7b4bfcaf",
   "metadata": {},
   "outputs": [
    {
     "data": {
      "text/plain": [
       "<Axes: xlabel='date', ylabel='total_cases'>"
      ]
     },
     "execution_count": 17,
     "metadata": {},
     "output_type": "execute_result"
    },
    {
     "data": {
      "image/png": "[encoded data removed]",
      "text/plain": [
       "<Figure size 640x480 with 1 Axes>"
      ]
     },
     "metadata": {},
     "output_type": "display_data"
    }
   ],
   "source": [
    "sns.lineplot(data = Italy, x = \"date\", y = \"total_cases\")"
   ]
  },
  {
   "cell_type": "code",
   "execution_count": 18,
   "id": "5c0609cd",
   "metadata": {},
   "outputs": [
    {
     "data": {
      "text/plain": [
       "<Axes: xlabel='date', ylabel='new_cases'>"
      ]
     },
     "execution_count": 18,
     "metadata": {},
     "output_type": "execute_result"
    },
    {
     "data": {
      "image/png": "[encoded data removed]",
      "text/plain": [
       "<Figure size 640x480 with 1 Axes>"
      ]
     },
     "metadata": {},
     "output_type": "display_data"
    }
   ],
   "source": [
    "sns.lineplot(data = Italy, x = \"date\", y = Italy[\"new_cases\"].cumsum())"
   ]
  },
  {
   "cell_type": "code",
   "execution_count": 19,
   "id": "cf13274d",
   "metadata": {},
   "outputs": [
    {
     "data": {
      "text/plain": [
       "<Axes: xlabel='date', ylabel='new_cases'>"
      ]
     },
     "execution_count": 19,
     "metadata": {},
     "output_type": "execute_result"
    },
    {
     "data": {
      "image/png": "[encoded data removed]",
      "text/plain": [
       "<Figure size 640x480 with 1 Axes>"
      ]
     },
     "metadata": {},
     "output_type": "display_data"
    }
   ],
   "source": [
    "sns.lineplot(data = Italy, x = Italy[\"date\"].dt.month, y = \"new_cases\")"
   ]
  },
  {
   "cell_type": "markdown",
   "id": "212d4aae",
   "metadata": {},
   "source": [
    "Si, ci sono similarità tra l'andamento del numero dei casi totali e la somma cumulativa dei nuovi casi del 2022, anzi i grafici sembrano praticamente identici.\n",
    "Ho aggiunto un grafico per visionare l'andamento dei nuovi casi nel tempo perchè mi sembrava interessante."
   ]
  },
  {
   "cell_type": "markdown",
   "id": "94d18cb3",
   "metadata": {},
   "source": [
    "5)\tRiguardo le nazioni di Italia, Germania e Francia, mostrare in un boxplot la differenza tra queste nazioni riguardo il numero di pazienti in terapia intensiva (Intensive Care Unit, ICU) da maggio 2022 (incluso) ad aprile 2023 (incluso), e scrivere un breve commento a riguardo; "
   ]
  },
  {
   "cell_type": "code",
   "execution_count": 20,
   "id": "76f7b134",
   "metadata": {},
   "outputs": [
    {
     "data": {
      "text/plain": [
       "<Axes: xlabel='location', ylabel='icu_patients'>"
      ]
     },
     "execution_count": 20,
     "metadata": {},
     "output_type": "execute_result"
    },
    {
     "data": {
      "image/png": "[encoded data removed]",
      "text/plain": [
       "<Figure size 640x480 with 1 Axes>"
      ]
     },
     "metadata": {},
     "output_type": "display_data"
    }
   ],
   "source": [
    "It_Ge_Fr = df_covid19[(df_covid19[\"location\"].isin([\"Italy\", \"Germany\", \"France\"])) & (df_covid19[\"date\"] > \"2022-04-30\") & (df_covid19[\"date\"] < \"2023-05-01\")]\n",
    "sns.boxplot(data = It_Ge_Fr, x = \"location\", y = \"icu_patients\")"
   ]
  },
  {
   "cell_type": "markdown",
   "id": "72db259c",
   "metadata": {},
   "source": [
    "Si nota la grande differenza tra Italia e le le altre due nazioni, rispetto alla quantità di pazienti in terapia intensiva durante il periodo sotto indagine."
   ]
  },
  {
   "cell_type": "markdown",
   "id": "75960500",
   "metadata": {},
   "source": [
    "6)\tRiguardo le nazioni di Italia, Germania, Francia e Spagna nel 2023, mostrare la somma dei pazienti ospitalizzati per ognuna — se ci sono dati nulli, suggerire se può essere possibile gestirli tramite sostituzione o meno."
   ]
  },
  {
   "cell_type": "code",
   "execution_count": 21,
   "id": "5df83293",
   "metadata": {},
   "outputs": [],
   "source": [
    "It_Ge_Fr_Sp = df_covid19[(df_covid19[\"location\"].isin([\"Italy\", \"Germany\", \"France\", \"Spain\"])) & (df_covid19[\"date\"].dt.year == 2023)]"
   ]
  },
  {
   "cell_type": "code",
   "execution_count": 37,
   "id": "1053ae77",
   "metadata": {},
   "outputs": [
    {
     "data": {
      "text/plain": [
       "location\n",
       "France     1382574.0\n",
       "Germany          0.0\n",
       "Italy      1175272.0\n",
       "Spain       354602.0\n",
       "Name: hosp_patients, dtype: float64"
      ]
     },
     "execution_count": 37,
     "metadata": {},
     "output_type": "execute_result"
    }
   ],
   "source": [
    "It_Ge_Fr_Sp.groupby(\"location\")[\"hosp_patients\"].sum()"
   ]
  },
  {
   "cell_type": "code",
   "execution_count": 44,
   "id": "a98a8ec6",
   "metadata": {},
   "outputs": [
    {
     "data": {
      "text/plain": [
       "<Axes: xlabel='location'>"
      ]
     },
     "execution_count": 44,
     "metadata": {},
     "output_type": "execute_result"
    },
    {
     "data": {
      "image/png": "[encoded data removed]",
      "text/plain": [
       "<Figure size 640x480 with 1 Axes>"
      ]
     },
     "metadata": {},
     "output_type": "display_data"
    }
   ],
   "source": [
    "It_Ge_Fr_Sp.groupby(\"location\")[\"hosp_patients\"].sum().plot(kind = \"bar\")"
   ]
  },
  {
   "cell_type": "markdown",
   "id": "bf1874e1",
   "metadata": {},
   "source": [
    "Già si può notare che la Germania abbia conteggio zero, è dunque probabile che questa nazione presenti tutti o parecchi dati nulli:"
   ]
  },
  {
   "cell_type": "code",
   "execution_count": 28,
   "id": "7106b6a7",
   "metadata": {},
   "outputs": [
    {
     "data": {
      "text/plain": [
       "location\n",
       "France      90\n",
       "Germany      0\n",
       "Italy      365\n",
       "Spain      162\n",
       "Name: hosp_patients, dtype: int64"
      ]
     },
     "execution_count": 28,
     "metadata": {},
     "output_type": "execute_result"
    }
   ],
   "source": [
    "It_Ge_Fr_Sp.groupby(\"location\")[\"hosp_patients\"].count()"
   ]
  },
  {
   "cell_type": "markdown",
   "id": "8f782831",
   "metadata": {},
   "source": [
    "Analizzando la tabella creata sopra si nota che ad ogni nazione sotto indagine corrisponde un valore per ogni giorno dell'anno su cui stiamo indagando, sono presenti infatti 365 righe differenti per ogni nazione.\n",
    "Se però per quanto riguarda l'Italia non compare alcun dato nullo, le altre nazioni ne presentano parecchi: La Germania presenta solo dati nulli e può dunque essere esclusa dall'analisi; anche Francia e Spagna presentano parecchi dati nulli.\n",
    "Questo è un caso in cui i dati nulli non passono essere scambiati con una media o una mediana, o andremmo a sfalsare l'intera somma. Inoltre anche la presenza di dati nulli ci sta dando informazioni, ad esempio: la Germania nel 2023 non ha avuto ospedalizzati a causa del Covid19?"
   ]
  }
 ],
 "metadata": {
  "kernelspec": {
   "display_name": "Python 3 (ipykernel)",
   "language": "python",
   "name": "python3"
  },
  "language_info": {
   "codemirror_mode": {
    "name": "ipython",
    "version": 3
   },
   "file_extension": ".py",
   "mimetype": "text/x-python",
   "name": "python",
   "nbconvert_exporter": "python",
   "pygments_lexer": "ipython3",
   "version": "3.11.5"
  }
 },
 "nbformat": 4,
 "nbformat_minor": 5
}
